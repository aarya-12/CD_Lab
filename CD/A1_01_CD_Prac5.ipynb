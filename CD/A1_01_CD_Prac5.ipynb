{
  "nbformat": 4,
  "nbformat_minor": 0,
  "metadata": {
    "colab": {
      "provenance": []
    },
    "kernelspec": {
      "name": "python3",
      "display_name": "Python 3"
    },
    "language_info": {
      "name": "python"
    }
  },
  "cells": [
    {
      "cell_type": "code",
      "source": [
        "def generate_3ac(input_code):\n",
        "    # List that stores 3AC\n",
        "    code = []\n",
        "    # Line numbers for 3AC\n",
        "    block_counter = 1\n",
        "    # Used to generate unique names for variables \n",
        "    temp_counter = 1\n",
        "\n",
        "    # Conditional check\n",
        "    cond_check = input_code.split(\"(\")[1].split(\")\")[0].strip()\n",
        "    code.append(f\"{block_counter}) if {cond_check} goto {block_counter+2}\")\n",
        "    block_counter += 1\n",
        "    code.append(f\"{block_counter}) goto {block_counter+6}\")\n",
        "    block_counter += 1\n",
        "\n",
        "    # If block\n",
        "    if_block = input_code.split(\"{\")[1].split(\"}\")[0].strip().split(\";\")\n",
        "    # c = b + d; d = i + j;\n",
        "    for statement in if_block:\n",
        "        if statement.strip():\n",
        "            left, right = statement.strip().split(\"=\")\n",
        "            temp_var = f\"t{temp_counter}\"\n",
        "            temp_counter += 1\n",
        "            code.append(f\"{block_counter}) {temp_var} = {right.strip()}\")\n",
        "            block_counter += 1\n",
        "            code.append(f\"{block_counter}) {left.strip()} = {temp_var}\")\n",
        "            block_counter += 1\n",
        "\n",
        "    # Jump to end of else block\n",
        "    code.append(f\"{block_counter}) goto {block_counter+5}\")\n",
        "    block_counter += 1\n",
        "\n",
        "    # Else block\n",
        "    else_block = input_code.split(\"{\")[2].split(\"}\")[0].strip().split(\";\")\n",
        "    # d = a + b; k = x + y;\n",
        "    for statement in else_block:\n",
        "        if statement.strip():\n",
        "            left, right = statement.strip().split(\"=\")\n",
        "            temp_var = f\"t{temp_counter}\"\n",
        "            temp_counter += 1\n",
        "            code.append(f\"{block_counter}) {temp_var} = {right.strip()}\")\n",
        "            block_counter += 1\n",
        "            code.append(f\"{block_counter}) {left.strip()} = {temp_var}\")\n",
        "            block_counter += 1\n",
        "\n",
        "    # End\n",
        "    code.append(f\"{block_counter}) END\")\n",
        "\n",
        "    return code\n",
        "\n",
        "three_address_code = generate_3ac(\"if(a<5){c = b + d;d = i + j;}else{d = a + b;k = x + y;}\")\n",
        "for line in three_address_code:\n",
        "    print(line)\n"
      ],
      "metadata": {
        "colab": {
          "base_uri": "https://localhost:8080/"
        },
        "id": "3lDOvAdvkvZ_",
        "outputId": "bbf5d535-1f5a-4ef7-9b36-baff066b5985"
      },
      "execution_count": null,
      "outputs": [
        {
          "output_type": "stream",
          "name": "stdout",
          "text": [
            "1) if a<5 goto 3\n",
            "2) goto 8\n",
            "3) t1 = b + d\n",
            "4) c = t1\n",
            "5) t2 = i + j\n",
            "6) d = t2\n",
            "7) goto 12\n",
            "8) t3 = a + b\n",
            "9) d = t3\n",
            "10) t4 = x + y\n",
            "11) k = t4\n",
            "12) END\n"
          ]
        }
      ]
    },
    {
      "cell_type": "code",
      "source": [],
      "metadata": {
        "id": "6g-UpPuplCG6"
      },
      "execution_count": null,
      "outputs": []
    }
  ]
}