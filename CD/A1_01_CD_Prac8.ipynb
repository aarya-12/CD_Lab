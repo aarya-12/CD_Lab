{
  "nbformat": 4,
  "nbformat_minor": 0,
  "metadata": {
    "colab": {
      "provenance": []
    },
    "kernelspec": {
      "name": "python3",
      "display_name": "Python 3"
    },
    "language_info": {
      "name": "python"
    }
  },
  "cells": [
    {
      "cell_type": "code",
      "execution_count": null,
      "metadata": {
        "colab": {
          "base_uri": "https://localhost:8080/"
        },
        "id": "-FXuEhpT7jlA",
        "outputId": "0f060a9d-4e99-4986-fa54-4732e348119d"
      },
      "outputs": [
        {
          "output_type": "stream",
          "name": "stdout",
          "text": [
            "MOV R0, 5\n",
            "MOV R1, 3\n",
            "MOV R2, 4\n",
            "ADD R2, R2, R3\n",
            "MUL R1, R1, R2\n",
            "MOV R1, 2\n",
            "SUB R1, R1, R2\n"
          ]
        }
      ],
      "source": [
        "def generate_assembly_code(rpn_expression):\n",
        "    register_counter = 0\n",
        "    assembly_code = []\n",
        "\n",
        "    for token in rpn_expression:\n",
        "        if token == '+':\n",
        "            assembly_code.append(f'ADD R{register_counter - 1}, R{register_counter - 1}, R{register_counter}')\n",
        "            register_counter -= 1\n",
        "        elif token == '-':\n",
        "            assembly_code.append(f'SUB R{register_counter - 1}, R{register_counter - 1}, R{register_counter}')\n",
        "            register_counter -= 1\n",
        "        elif token == '*':\n",
        "            assembly_code.append(f'MUL R{register_counter - 1}, R{register_counter - 1}, R{register_counter}')\n",
        "            register_counter -= 1\n",
        "        elif token == '/':\n",
        "            assembly_code.append(f'DIV R{register_counter - 1}, R{register_counter - 1}, R{register_counter}')\n",
        "            register_counter -= 1\n",
        "        else:\n",
        "            assembly_code.append(f'MOV R{register_counter}, {token}')\n",
        "            register_counter += 1\n",
        "\n",
        "    return assembly_code\n",
        "\n",
        "# Input RPN expression\n",
        "# his assembly code calculates the value of the expression 5 * (3 + 4) - 2\n",
        "rpn_expression = ['5', '3', '4', '+', '*', '2', '-']\n",
        "\n",
        "# Generate assembly code for the RPN expression\n",
        "assembly_code = generate_assembly_code(rpn_expression)\n",
        "\n",
        "# Print assembly code\n",
        "for instruction in assembly_code:\n",
        "    print(instruction)\n"
      ]
    },
    {
      "cell_type": "code",
      "source": [],
      "metadata": {
        "id": "uwPwkUbR7sIx"
      },
      "execution_count": null,
      "outputs": []
    }
  ]
}