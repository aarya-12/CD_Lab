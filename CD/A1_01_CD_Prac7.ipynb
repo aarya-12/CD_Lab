{
  "nbformat": 4,
  "nbformat_minor": 0,
  "metadata": {
    "colab": {
      "provenance": []
    },
    "kernelspec": {
      "name": "python3",
      "display_name": "Python 3"
    },
    "language_info": {
      "name": "python"
    }
  },
  "cells": [
    {
      "cell_type": "code",
      "execution_count": null,
      "metadata": {
        "id": "p5tHJM0z69kS"
      },
      "outputs": [],
      "source": [
        "###COPY PROPOGATION"
      ]
    },
    {
      "cell_type": "code",
      "source": [
        " ###CONSTANT PROPOGATION (NOT WORKING)"
      ],
      "metadata": {
        "id": "VbIGDqUV7LpV"
      },
      "execution_count": null,
      "outputs": []
    },
    {
      "cell_type": "code",
      "source": [
        "def optimize_TAC(tac):\n",
        "    def copy_propagation(tac):\n",
        "        var_map = {}\n",
        "        optimized_tac = []\n",
        "\n",
        "        for line in tac:\n",
        "            tokens = line.split()\n",
        "\n",
        "            if len(tokens) == 3 and tokens[1] == \"=\":\n",
        "                var_map[tokens[0]] = tokens[2]\n",
        "            else:\n",
        "                new_line = \" \".join([var_map.get(token, token) for token in tokens])\n",
        "                optimized_tac.append(new_line)\n",
        "\n",
        "        return optimized_tac\n",
        "\n",
        "    def constant_propagation(tac):\n",
        "        constants = {}\n",
        "        optimized_tac = []\n",
        "\n",
        "        for line in tac:\n",
        "            tokens = line.split()\n",
        "\n",
        "            if len(tokens) == 3 and tokens[1] == \"=\" and tokens[2].isdigit():\n",
        "                constants[tokens[0]] = tokens[2]\n",
        "            else:\n",
        "                new_line = \" \".join([constants.get(token, token) for token in tokens])\n",
        "                optimized_tac.append(new_line)\n",
        "\n",
        "        return optimized_tac\n",
        "\n",
        "    def constant_folding(tac):\n",
        "        optimized_tac = []\n",
        "\n",
        "        for line in tac:\n",
        "            tokens = line.split()\n",
        "\n",
        "            if len(tokens) == 5:\n",
        "                op1, operator, op2 = tokens[2], tokens[3], tokens[4]\n",
        "\n",
        "                if op1.isdigit() and op2.isdigit():\n",
        "                    result = eval(f\"{op1} {operator} {op2}\")\n",
        "                    new_line = f\"{tokens[0]} = {result}\"\n",
        "                else:\n",
        "                    new_line = line\n",
        "\n",
        "                optimized_tac.append(new_line)\n",
        "            else:\n",
        "                optimized_tac.append(line)\n",
        "\n",
        "        return optimized_tac\n",
        "\n",
        "    def common_subexpression_elimination(tac):\n",
        "        subexpr_map = {}\n",
        "        optimized_tac = []\n",
        "\n",
        "        for line in tac:\n",
        "            tokens = line.split()\n",
        "\n",
        "            if len(tokens) == 5:\n",
        "                subexpr = \" \".join(tokens[2:])\n",
        "\n",
        "                if subexpr in subexpr_map:\n",
        "                    new_line = f\"{tokens[0]} = {subexpr_map[subexpr]}\"\n",
        "                else:\n",
        "                    subexpr_map[subexpr] = tokens[0]\n",
        "                    new_line = line\n",
        "\n",
        "                optimized_tac.append(new_line)\n",
        "            else:\n",
        "                optimized_tac.append(line)\n",
        "\n",
        "        return optimized_tac\n",
        "\n",
        "    optimized_tac = tac\n",
        "    prev_tac = []\n",
        "\n",
        "    while prev_tac != optimized_tac:\n",
        "        prev_tac = optimized_tac\n",
        "        optimized_tac = constant_propagation(optimized_tac)\n",
        "        print(optimized_tac)\n",
        "        optimized_tac = copy_propagation(optimized_tac)\n",
        "        print(optimized_tac)\n",
        "        optimized_tac = constant_folding(optimized_tac)\n",
        "        print(optimized_tac)\n",
        "        optimized_tac = common_subexpression_elimination(optimized_tac)\n",
        "        print(optimized_tac)\n",
        "\n",
        "\n",
        "    return optimized_tac\n",
        "\n",
        "\n",
        "tac = [\n",
        "    \"a = 2\",\n",
        "    \"b = x * x\",\n",
        "    \"c = x\",\n",
        "    \"d = a + 5\",\n",
        "    \"e = b + c\",\n",
        "    \"f = c * c\",\n",
        "    \"g = d + e\",\n",
        "    \"h = e * f\"\n",
        "]\n",
        "\n",
        "optimized_tac = optimize_TAC(tac)\n",
        "\n",
        "print(\"Original TAC:\")\n",
        "print(\"\\n\".join(tac))\n",
        "\n",
        "print(\"\\nOptimized TAC:\")\n",
        "print(\"\\n\".join(optimized_tac))"
      ],
      "metadata": {
        "colab": {
          "base_uri": "https://localhost:8080/"
        },
        "id": "ZwT1AzLp7OBg",
        "outputId": "d7684afe-3db8-476f-953a-bfce35b9bf62"
      },
      "execution_count": null,
      "outputs": [
        {
          "output_type": "stream",
          "name": "stdout",
          "text": [
            "['b = x * x', 'c = x', 'd = 2 + 5', 'e = b + c', 'f = c * c', 'g = d + e', 'h = e * f']\n",
            "['b = x * x', 'd = 2 + 5', 'e = b + x', 'f = x * x', 'g = d + e', 'h = e * f']\n",
            "['b = x * x', 'd = 7', 'e = b + x', 'f = x * x', 'g = d + e', 'h = e * f']\n",
            "['b = x * x', 'd = 7', 'e = b + x', 'f = b', 'g = d + e', 'h = e * f']\n",
            "['b = x * x', 'e = b + x', 'f = b', 'g = 7 + e', 'h = e * f']\n",
            "['b = x * x', 'e = b + x', 'g = 7 + e', 'h = e * b']\n",
            "['b = x * x', 'e = b + x', 'g = 7 + e', 'h = e * b']\n",
            "['b = x * x', 'e = b + x', 'g = 7 + e', 'h = e * b']\n",
            "['b = x * x', 'e = b + x', 'g = 7 + e', 'h = e * b']\n",
            "['b = x * x', 'e = b + x', 'g = 7 + e', 'h = e * b']\n",
            "['b = x * x', 'e = b + x', 'g = 7 + e', 'h = e * b']\n",
            "['b = x * x', 'e = b + x', 'g = 7 + e', 'h = e * b']\n",
            "Original TAC:\n",
            "a = 2\n",
            "b = x * x\n",
            "c = x\n",
            "d = a + 5\n",
            "e = b + c\n",
            "f = c * c\n",
            "g = d + e\n",
            "h = e * f\n",
            "\n",
            "Optimized TAC:\n",
            "b = x * x\n",
            "e = b + x\n",
            "g = 7 + e\n",
            "h = e * b\n"
          ]
        }
      ]
    },
    {
      "cell_type": "code",
      "source": [
        "###CONSTANT FOLDING"
      ],
      "metadata": {
        "id": "ZdqGz7Ke7QWX"
      },
      "execution_count": null,
      "outputs": []
    },
    {
      "cell_type": "code",
      "source": [
        "###CONSTANT FOLDING\n",
        "def optimize_tac(tac):\n",
        "\n",
        "    def constant_folding(tac):\n",
        "        optimized_tac = []\n",
        "        for instr in tac:\n",
        "            tokens = instr.split()\n",
        "            if len(tokens) == 5 and tokens[2].isdigit() and tokens[4].isdigit():\n",
        "                result = eval(f\"{tokens[2]} {tokens[3]} {tokens[4]}\")\n",
        "                optimized_tac.append(f\"{tokens[0]} = {result}\")\n",
        "            else:\n",
        "                optimized_tac.append(instr)\n",
        "        return optimized_tac\n",
        "\n",
        "    optimized_tac = tac\n",
        "    prev_len = len(tac) + 1\n",
        "    while prev_len > len(optimized_tac):\n",
        "        prev_len = len(optimized_tac)\n",
        "        optimized_tac = constant_folding(optimized_tac)\n",
        "\n",
        "    return optimized_tac\n",
        "\n",
        "# Example usage:\n",
        "tac = [\n",
        "    \"x = 5 + 7\"\n",
        "]\n",
        "\n",
        "optimized_tac = optimize_tac(tac)\n",
        "for instr in optimized_tac:\n",
        "    print(instr)\n"
      ],
      "metadata": {
        "colab": {
          "base_uri": "https://localhost:8080/"
        },
        "id": "AOHVIlMv7TuY",
        "outputId": "cb401e54-0c0a-4885-d63d-7a51d9e4d99e"
      },
      "execution_count": null,
      "outputs": [
        {
          "output_type": "stream",
          "name": "stdout",
          "text": [
            "x = 12\n"
          ]
        }
      ]
    },
    {
      "cell_type": "code",
      "source": [
        "###COMMON SUBEXPRESION ELIMINATION"
      ],
      "metadata": {
        "id": "JoxomwAj7W0p"
      },
      "execution_count": null,
      "outputs": []
    },
    {
      "cell_type": "code",
      "source": [
        "###COMMON SUBEXPRESION ELIMINATION\n",
        "def optimize_tac(tac):\n",
        "    def common_subexpression_elimination(tac):\n",
        "        subexpr_map = {}\n",
        "        optimized_tac = []\n",
        "        for instr in tac:\n",
        "            tokens = instr.split()\n",
        "            if len(tokens) == 5:\n",
        "                subexpr = f\"{tokens[2]} {tokens[3]} {tokens[4]}\"\n",
        "                if subexpr in subexpr_map:\n",
        "                    optimized_tac.append(f\"{tokens[0]} = {subexpr_map[subexpr]}\")\n",
        "                else:\n",
        "                    subexpr_map[subexpr] = tokens[0]\n",
        "                    optimized_tac.append(instr)\n",
        "            else:\n",
        "                optimized_tac.append(instr)\n",
        "        return optimized_tac\n",
        "\n",
        "    optimized_tac = common_subexpression_elimination(tac)\n",
        "    return optimized_tac\n",
        "\n",
        "# Example usage:\n",
        "tac = [\n",
        "    \"a = b + c\",\n",
        "    \"d = e + f\",\n",
        "    \"g = b + c\",\n",
        "    \"h = e - f\"\n",
        "]\n",
        "\n",
        "optimized_tac = optimize_tac(tac)\n",
        "for instr in optimized_tac:\n",
        "    print(instr)\n"
      ],
      "metadata": {
        "colab": {
          "base_uri": "https://localhost:8080/"
        },
        "id": "l009t1g67ZLY",
        "outputId": "cd221667-0662-457f-a511-14cf99028140"
      },
      "execution_count": null,
      "outputs": [
        {
          "output_type": "stream",
          "name": "stdout",
          "text": [
            "a = b + c\n",
            "d = e + f\n",
            "g = a\n",
            "h = e - f\n"
          ]
        }
      ]
    },
    {
      "cell_type": "code",
      "source": [],
      "metadata": {
        "id": "R9PKZZVB7eXU"
      },
      "execution_count": null,
      "outputs": []
    }
  ]
}