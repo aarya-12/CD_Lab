{
  "nbformat": 4,
  "nbformat_minor": 0,
  "metadata": {
    "colab": {
      "provenance": []
    },
    "kernelspec": {
      "name": "python3",
      "display_name": "Python 3"
    },
    "language_info": {
      "name": "python"
    }
  },
  "cells": [
    {
      "cell_type": "code",
      "source": [
        "class BasicBlock:\n",
        "    def __init__(self, leader, index, statements):\n",
        "        self.leader = leader\n",
        "        self.index = index\n",
        "        self.statements = statements\n",
        "        self.successors = []\n",
        "        self.predecessors = []\n",
        "        self.dominators = set()\n",
        "\n",
        "    def __str__(self):\n",
        "        successors_str = ', '.join(['B{}'.format(bb.index+1) for bb in self.successors])\n",
        "        return 'B{}: contains: {}{}'.format(self.index+1, ', '.join(self.statements), successors_str)\n",
        "\n",
        "\n",
        "def update_successors(basic_blocks):\n",
        "    for i, bb in enumerate(basic_blocks):\n",
        "        possible_successors = []\n",
        "        if i < len(basic_blocks) - 1:\n",
        "            possible_successors.append(basic_blocks[i+1])\n",
        "        for j in range(i+1, len(basic_blocks)):\n",
        "            if str(basic_blocks[j].leader) in bb.statements[-1]:\n",
        "                possible_successors.append(basic_blocks[j])\n",
        "        for successor in possible_successors:\n",
        "            bb.successors.append(successor)\n",
        "            successor.predecessors.append(bb)\n",
        "\n",
        "\n",
        "\n",
        "def generate_blocks(three_address_code, leaders):\n",
        "    basic_blocks = []\n",
        "    leaders.append(len(three_address_code))\n",
        "    leaders = sorted(leaders)\n",
        "    for i in range(len(leaders)-1):\n",
        "        block = three_address_code[leaders[i]:leaders[i+1]]\n",
        "        basic_block = BasicBlock(leaders[i], i, block)\n",
        "        basic_blocks.append(basic_block)\n",
        "\n",
        "    # Update successors based on 'goto' statements\n",
        "    update_successors(basic_blocks)\n",
        "\n",
        "    return basic_blocks\n",
        "    \n",
        "def print_pfg(basic_blocks):\n",
        "    for bb in basic_blocks:\n",
        "        for successor in bb.successors:\n",
        "            print('B{} -> B{}'.format(bb.index+1, successor.index+1))\n",
        "\n",
        "\n",
        "# Sample input: Three Address Code statements\n",
        "three_address_code = [\n",
        "    \"count = 0\",\n",
        "    \"result = 0\",\n",
        "    \"if count > 20 goto 7\",\n",
        "    \"count = count + 1\",\n",
        "    \"increment = 2 * count\",\n",
        "    \"result = result + increment\",\n",
        "    \"goto 3\",\n",
        "    \"end\"\n",
        "]\n",
        "\n",
        "# Finding leader statements\n",
        "leaders = set()\n",
        "leaders.add(0)  # The first statement is always a leader\n",
        "for i in range(len(three_address_code)):\n",
        "    if three_address_code[i].startswith('if'):\n",
        "        # Instructions starting with 'if' and the next one of if\n",
        "        leaders.add(i)\n",
        "        target_block = int(three_address_code[i].split(' ')[-1]) # Extract target block from 'if' statement\n",
        "        leaders.add(target_block)\n",
        "        leaders.add(i + 1)\n",
        "leaders = sorted(list(leaders))\n",
        "for leader in leaders:\n",
        "    print(\"{} : {}\".format(leader, three_address_code[leader]))\n",
        "\n",
        "# Generating basic blocks\n",
        "basic_blocks = generate_blocks(three_address_code, leaders)\n",
        "\n",
        "# Printing basic blocks\n",
        "print(\"The basic blocks are:\")\n",
        "for basic_block in basic_blocks:\n",
        "    print(basic_block)\n",
        "\n",
        "print(\"\\nThe program flow graph is:\")\n",
        "print_pfg(basic_blocks)"
      ],
      "metadata": {
        "colab": {
          "base_uri": "https://localhost:8080/"
        },
        "id": "VhMwLI7r-rrY",
        "outputId": "2383b147-2019-4a7b-d790-f5262f469b24"
      },
      "execution_count": null,
      "outputs": [
        {
          "output_type": "stream",
          "name": "stdout",
          "text": [
            "0 : count = 0\n",
            "2 : if count > 20 goto 7\n",
            "3 : count = count + 1\n",
            "7 : end\n",
            "The basic blocks are:\n",
            "B1: contains: count = 0, result = 0B2\n",
            "B2: contains: if count > 20 goto 7B3, B4\n",
            "B3: contains: count = count + 1, increment = 2 * count, result = result + increment, goto 3B4\n",
            "B4: contains: end\n",
            "\n",
            "The program flow graph is:\n",
            "B1 -> B2\n",
            "B2 -> B3\n",
            "B2 -> B4\n",
            "B3 -> B4\n"
          ]
        }
      ]
    },
    {
      "cell_type": "code",
      "source": [],
      "metadata": {
        "id": "XZS916KgEey4"
      },
      "execution_count": null,
      "outputs": []
    }
  ]
}